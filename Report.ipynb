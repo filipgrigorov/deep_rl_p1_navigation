{
 "cells": [
  {
   "cell_type": "markdown",
   "metadata": {},
   "source": [
    "## RL Algorithm:\n",
    "**Double DQN** with $\\epsilon$\\-greedy sampling has been used. The hyperparameters chosen are:\n",
    "- $\\epsilon$<sub>start</sub>=1.0\n",
    "- $\\epsilon$<sub>end</sub>=0.01\n",
    "- $\\epsilon$<sub>decay_rate</sub>=0.995\n",
    "- $\\gamma$=0.99\n",
    "- lr=5e-4\n",
    "- batch size of 64\n",
    "- number of episodes 2000\n",
    "- soft-update rule -> $\\hat{Q}$(s, a; $\\theta$<sup>-</sup>) = $\\tau$ * $\\hat{Q}$(s, a; $\\theta$) + (1 - $\\tau$) * $\\hat{Q}$(s, a; $\\theta$<sup>-</sup>) for $\\tau$=1e-3\n",
    "- gradient descent step: $\\theta$<sub>t+1</sub> = $\\theta$<sub>t</sub> - lr * $\\nabla$<sub>$\\theta$<sub>i</sub></sub><b>L</b>(s, a; $\\theta$<sub>i</sub>) for \n",
    "$\\nabla$<sub>$\\theta$<sub>i</sub></sub><b>L</b>(s, a; $\\theta$<sub>i</sub>) = (y<sub>i</sub> - $\\hat{Q}$(s, a; $\\theta$<sub>i</sub>)) * $\\nabla$<sub>$\\theta$<sub>i</sub></sub>$\\hat{Q}$(s, a; $\\theta$<sub>i</sub>) for y<sub>i</sub> = R<sup>'</sup> + $\\gamma$ * \n",
    "$\\hat{Q}$(S<sup>'</sup>, argmax<sub>a</sub>$\\hat{Q}$(S<sup>'</sup>, a; $\\theta$); $\\theta$<sup>-</sup>) * $\\delta$ where $\\delta$ = 1 if done<sub>i</sub> = 0 else 0\n",
    "- update step: every 4th"
   ]
  },
  {
   "cell_type": "markdown",
   "metadata": {},
   "source": [
    "## RL Model:\n"
   ]
  },
  {
   "cell_type": "markdown",
   "metadata": {},
   "source": [
    "![alt text](https://github.com/filipgrigorov/deep_rl_p1_navigation/raw/main/p1_navigation_checkpoint.pth.png \"Model architecture\")"
   ]
  },
  {
   "cell_type": "code",
   "execution_count": null,
   "metadata": {},
   "outputs": [],
   "source": []
  }
 ],
 "metadata": {
  "kernelspec": {
   "display_name": "Python 3",
   "language": "python",
   "name": "python3"
  },
  "language_info": {
   "codemirror_mode": {
    "name": "ipython",
    "version": 3
   },
   "file_extension": ".py",
   "mimetype": "text/x-python",
   "name": "python",
   "nbconvert_exporter": "python",
   "pygments_lexer": "ipython3",
   "version": "3.6.12"
  }
 },
 "nbformat": 4,
 "nbformat_minor": 4
}
